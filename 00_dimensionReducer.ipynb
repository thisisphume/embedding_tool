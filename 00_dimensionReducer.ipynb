{
 "cells": [
  {
   "cell_type": "code",
   "execution_count": null,
   "metadata": {},
   "outputs": [],
   "source": [
    "# default_exp core"
   ]
  },
  {
   "cell_type": "code",
   "execution_count": 316,
   "metadata": {},
   "outputs": [
    {
     "name": "stdout",
     "output_type": "stream",
     "text": [
      "The autoreload extension is already loaded. To reload it, use:\n",
      "  %reload_ext autoreload\n"
     ]
    }
   ],
   "source": [
    "#hide\n",
    "%load_ext autoreload\n",
    "%autoreload 2\n",
    "from nbdev.showdoc import *"
   ]
  },
  {
   "cell_type": "code",
   "execution_count": 317,
   "metadata": {},
   "outputs": [],
   "source": [
    "#export\n",
    "import pandas as pd\n",
    "import numpy as np\n",
    "import seaborn as sns\n",
    "import matplotlib.pylab as plt\n",
    "\n",
    "import logging\n",
    "logger = logging.getLogger(__name__)\n",
    "\n",
    "from sklearn.preprocessing import StandardScaler"
   ]
  },
  {
   "cell_type": "markdown",
   "metadata": {},
   "source": [
    "# Dimension Reduction\n",
    "\n",
    "> The function performs dimensionality reduction, pre-processing the data and comparing the reconstruction error via PCA and autoencoder.\n",
    "\n",
    "Reference: \n",
    "- https://towardsdatascience.com/dimensionality-reduction-pca-versus-autoencoders-338fcaf3297d\n",
    "- https://towardsdatascience.com/autoencoders-vs-pca-when-to-use-which-73de063f5d7"
   ]
  },
  {
   "cell_type": "code",
   "execution_count": 318,
   "metadata": {},
   "outputs": [],
   "source": [
    "#export\n",
    "class dimensionReducer:\n",
    "    \n",
    "    def __init__(self, input_data, reduce_dim, learning_rate = 0.005):\n",
    "        \"\"\"\n",
    "        Intialize the dimension reducer\n",
    "        : param input_data: (pd.DataFrame or numpy.ndarray) An input data that will be used for dimension reduction\n",
    "        : param reduce_dim: Number of the output's dimension (reduced dimension)\n",
    "        : param learning_rate: the learning rate for the Adam optimization during the autoencoder model fitting\n",
    "        : return None\n",
    "        \"\"\"\n",
    "        self.reduce_dim = reduce_dim\n",
    "        self.X = input_data\n",
    "        self.learning_rate = learning_rate\n",
    "        return None\n",
    "    \n",
    "    def validateInputs(self):\n",
    "        \"\"\"\n",
    "        Validating the input\n",
    "        : is it pd.DataFrame or numpy.ndarray?\n",
    "        : any missing data/NaN/null?\n",
    "        \"\"\"\n",
    "        if (type(self.X) != np.ndarray) or (type(self.X) != pd.core.frame.DataFrame) :\n",
    "            return True\n",
    "        else:\n",
    "            raise ValueError('Incorrect input type: the input must be either numpy.ndarray or pandas.DataFrame')\n",
    "            \n",
    "    \n",
    "    def fit(self):\n",
    "        \"\"\"\n",
    "        Fit Transform PCA and Autoencoder\n",
    "        \"\"\"\n",
    "        \n",
    "        if (self.validateInputs()):\n",
    "            \n",
    "            ### Standardization \n",
    "            # StandardScaler: this is necessary since PC's are obtained by maximizing the variation within the data. \n",
    "            # sklearn.preprocessing.StandardScaler - z = (x - u) / s\n",
    "            # Why Scaling instead of normalizing? \n",
    "            # - https://stats.stackexchange.com/questions/385775/normalizing-vs-scaling-before-pca\n",
    "            # - https://scikit-learn.org/stable/auto_examples/preprocessing/plot_all_scaling.html\n",
    "            scaler = StandardScaler()\n",
    "            X_scale = scaler.fit_transform(self.X)\n",
    "            self.X_scale = X_scale\n",
    "\n",
    "            ### Fitting PCA\n",
    "            self.X_PCA_reconstruct, self.dfLowDimPCA = fitting_PCA(X_scale, self.reduce_dim)\n",
    "\n",
    "            ### Fitting 1-layer AutoEncoder\n",
    "            self.X_1AE_reconstruct, self.dfLowDim1AE, self.model1AE, self.hist1AE = fitting_1layer_encoder(X_scale, self.reduce_dim, self.learning_rate)\n",
    "            \n",
    "            ### Fitting 2-layer AutoEncoder\n",
    "            self.X_2AE_reconstruct, self.dfLowDim2AE, self.model2AE, self.hist2AE = fitting_2layer_encoder(X_scale, self.reduce_dim, self.learning_rate)\n",
    "            \n",
    "            \n",
    "            rmse_PCA = calculate_rmse(X_scale, self.X_PCA_reconstruct)\n",
    "            rmse_1AE = calculate_rmse(X_scale, self.X_1AE_reconstruct)\n",
    "            rmse_2AE = calculate_rmse(X_scale, self.X_2AE_reconstruct)\n",
    "            self.rmse_result = pd.DataFrame({\"PCA\":rmse_PCA, \"1AE\": rmse_1AE, \"2AE\":rmse_2AE}, index=[\"MSE\"])\n",
    "            \n",
    "            return None\n",
    "        \n",
    "        \n",
    "    def plot_autoencoder_performance(self):\n",
    "        \n",
    "        hist1 = self.hist1AE\n",
    "        plt.figure(figsize=(8, 4))\n",
    "        plt.plot(hist1.history['loss'])\n",
    "        plt.plot(hist1.history['val_loss'])\n",
    "        plt.title('Model 1-layer AE: loss')\n",
    "        plt.ylabel('loss'); plt.xlabel('epoch')\n",
    "        plt.legend(['Training_MSE', 'Validation_MSE'], loc='upper right')\n",
    "        \n",
    "        hist2 = self.hist2AE\n",
    "        plt.figure(figsize=(8, 4))\n",
    "        plt.plot(hist2.history['loss'])\n",
    "        plt.plot(hist2.history['val_loss'])\n",
    "        plt.title('Model 2-layer AE: loss')\n",
    "        plt.ylabel('loss'); plt.xlabel('epoch')\n",
    "        plt.legend(['Training_MSE', 'Validation_MSE'], loc='upper right')\n",
    "        "
   ]
  },
  {
   "cell_type": "markdown",
   "metadata": {},
   "source": [
    "***"
   ]
  },
  {
   "cell_type": "markdown",
   "metadata": {},
   "source": [
    "### Fitting PCA function"
   ]
  },
  {
   "cell_type": "code",
   "execution_count": 319,
   "metadata": {},
   "outputs": [],
   "source": [
    "#export\n",
    "from sklearn.decomposition import PCA\n",
    "\n",
    "def fitting_PCA(X, reduce_dim):\n",
    "                 \n",
    "    pca = PCA(n_components=reduce_dim)\n",
    "    X_PCA_transform = pca.fit_transform(X)\n",
    "    X_PCA_reconstruct = pca.inverse_transform(X_PCA_transform)\n",
    "    dfLowDimPCA = pd.DataFrame(data = X_PCA_transform, columns=list(range(X_PCA_transform.shape[1])))\n",
    "    \n",
    "    return X_PCA_reconstruct, dfLowDimPCA"
   ]
  },
  {
   "cell_type": "markdown",
   "metadata": {},
   "source": [
    "***"
   ]
  },
  {
   "cell_type": "markdown",
   "metadata": {},
   "source": [
    "### Fitting 1-layer Autoencoder function"
   ]
  },
  {
   "cell_type": "code",
   "execution_count": 320,
   "metadata": {},
   "outputs": [],
   "source": [
    "#export\n",
    "from keras.layers import Input, Dense\n",
    "from keras.models import Model\n",
    "from keras.callbacks import EarlyStopping, ModelCheckpoint\n",
    "from keras.optimizers import Adam"
   ]
  },
  {
   "cell_type": "code",
   "execution_count": 321,
   "metadata": {},
   "outputs": [],
   "source": [
    "#export\n",
    "def fitting_1layer_encoder(X, reduce_dim, learning_rate):\n",
    "\n",
    "    in_out_dimension = X.shape[1]\n",
    "\n",
    "    # Model Construction\n",
    "    input_layer = Input(shape=(in_out_dimension,))\n",
    "    encoded = Dense(reduce_dim, activation='linear')(input_layer)\n",
    "    decoded = Dense(in_out_dimension, activation=None)(encoded)\n",
    "\n",
    "    # Autoencoder Model\n",
    "    autoencoder = Model(input_layer, decoded)\n",
    "    encoder = Model(input_layer, encoded)\n",
    "\n",
    "    # Compiling the model\n",
    "    autoencoder.compile(optimizer=Adam(lr=learning_rate), loss='mean_squared_error')\n",
    "\n",
    "    # Fitting the model\n",
    "    history = autoencoder.fit(X, X, epochs=1000, batch_size=32, shuffle=True, verbose=0, validation_split=0.2\n",
    "                              , callbacks = [EarlyStopping(monitor='val_loss', patience=50)\n",
    "                                             ,ModelCheckpoint(filepath='best_model.h5'\n",
    "                                                              , monitor='val_loss'\n",
    "                                                              , save_best_only=True)])\n",
    "\n",
    "    # output: reduced dimension data and reconstruction data\n",
    "    encoded_dim = encoder.predict(X)\n",
    "    dfLowDim1AE = pd.DataFrame(data = encoded_dim, columns=list(range(encoded_dim.shape[1])))\n",
    "    decoded_dim = autoencoder.predict(X)\n",
    "    \n",
    "\n",
    "    return decoded_dim, dfLowDim1AE, autoencoder, history"
   ]
  },
  {
   "cell_type": "markdown",
   "metadata": {},
   "source": [
    "***"
   ]
  },
  {
   "cell_type": "markdown",
   "metadata": {},
   "source": [
    "### Fitting 2-layer Autoencoder function"
   ]
  },
  {
   "cell_type": "code",
   "execution_count": 323,
   "metadata": {},
   "outputs": [],
   "source": [
    "#export\n",
    "def fitting_2layer_encoder(X, reduce_dim, learning_rate):\n",
    "\n",
    "    in_out_dimension = X.shape[1]\n",
    "    half_dimension = int((in_out_dimension - reduce_dim) / 2)\n",
    "    \n",
    "    # Model Construction\n",
    "    input_layer = Input(shape=(in_out_dimension,))\n",
    "    encoded1 = Dense(half_dimension, activation='relu')(input_layer)\n",
    "    encoded2 = Dense(reduce_dim, activation='relu')(encoded1)\n",
    "    decoded1 = Dense(half_dimension, activation='relu')(encoded2)\n",
    "    decoded2 = Dense(in_out_dimension, activation=None)(decoded1)\n",
    "\n",
    "    # Autoencoder Model\n",
    "    autoencoder = Model(input_layer, decoded2)\n",
    "    encoder = Model(input_layer, encoded2)\n",
    "\n",
    "    # Compiling the model\n",
    "    autoencoder.compile(optimizer=Adam(lr=learning_rate), loss='mean_squared_error')\n",
    "\n",
    "    # Fitting the model\n",
    "    history = autoencoder.fit(X, X, epochs=1000, batch_size=32, shuffle=True, verbose=0, validation_split=0.2\n",
    "                              , callbacks = [EarlyStopping(monitor='val_loss', patience=50)\n",
    "                                             ,ModelCheckpoint(filepath='best_model.h5'\n",
    "                                                              , monitor='val_loss'\n",
    "                                                              , save_best_only=True)])\n",
    "\n",
    "    # output: reduced dimension data and reconstruction data\n",
    "    encoded_dim = encoder.predict(X)\n",
    "    dfLowDim2AE = pd.DataFrame(data = encoded_dim, columns=list(range(encoded_dim.shape[1])))\n",
    "    decoded_dim = autoencoder.predict(X)\n",
    "\n",
    "    return decoded_dim, dfLowDim2AE, autoencoder, history"
   ]
  },
  {
   "cell_type": "markdown",
   "metadata": {},
   "source": [
    "***"
   ]
  },
  {
   "cell_type": "markdown",
   "metadata": {},
   "source": [
    "### RMSE Function\n",
    "Let $X = <\\vec x_1, ..., \\vec x_n>$ be a $n \\times m$ matrix and \n",
    "\n",
    "Let $Y = <\\vec y_1, ..., \\vec y_n>$ be a $n \\times m$ matrix.\n",
    "\n",
    "Then the Root Mean Squared Error (RMSE) is defined as follow:\n",
    "\n",
    "$$MSE = {\\frac{\\sum_i^n (\\|\\vec x_i - \\vec y_i\\|_2)^2}{n \\times m}}\n",
    "= {\\frac{\\sum_i^n \\sum_j^m (x_{i_j} - y_{i_j})^2}{n \\times m}}$$.\n",
    "\n",
    "Reference: https://stats.stackexchange.com/questions/69333/rmse-mad-of-vectors"
   ]
  },
  {
   "cell_type": "code",
   "execution_count": 325,
   "metadata": {},
   "outputs": [],
   "source": [
    "#export\n",
    "def calculate_rmse(np_arr1, np_arr2):\n",
    "    \"\"\" Calculating the Root Mean Squared Error\"\"\"\n",
    "    return ((((np_arr1 - np_arr2)**2).sum()) / (np_arr1.shape[0] * np_arr1.shape[1]) )"
   ]
  },
  {
   "cell_type": "markdown",
   "metadata": {},
   "source": [
    "***"
   ]
  },
  {
   "cell_type": "markdown",
   "metadata": {},
   "source": [
    "### Plotting the output (for 2-dimensional embedding)"
   ]
  },
  {
   "cell_type": "code",
   "execution_count": 328,
   "metadata": {},
   "outputs": [],
   "source": [
    "#export\n",
    "def plot_output(df):\n",
    "    \"\"\"\n",
    "    Visualize the output.\n",
    "    \"\"\"\n",
    "    if (len(df.columns) != 2):\n",
    "        raise ValueError(\"The embedding must be 2-dimensional vectors.\") \n",
    "    \n",
    "    plt.figure(figsize=(8, 8))\n",
    "    plt.scatter(df[0], df[1])\n",
    "    plt.title(\"2D Projection of the data\")"
   ]
  },
  {
   "cell_type": "markdown",
   "metadata": {},
   "source": [
    "***"
   ]
  },
  {
   "cell_type": "markdown",
   "metadata": {},
   "source": [
    "# Example"
   ]
  },
  {
   "cell_type": "markdown",
   "metadata": {},
   "source": [
    "**Input data:**\n",
    "The input matrix has a size of 863 $\\times$ 768."
   ]
  },
  {
   "cell_type": "code",
   "execution_count": 283,
   "metadata": {},
   "outputs": [
    {
     "name": "stdout",
     "output_type": "stream",
     "text": [
      "Data's size:  (863, 768)\n",
      "Dimension:    768\n"
     ]
    }
   ],
   "source": [
    "import pickle\n",
    "\n",
    "with open('testing_data.pickle', 'rb') as handle:\n",
    "    testing_data = pickle.load(handle)\n",
    "    \n",
    "print (\"Data's size: \", testing_data.shape)\n",
    "print (\"Dimension:   \", testing_data.shape[1])"
   ]
  },
  {
   "cell_type": "markdown",
   "metadata": {},
   "source": [
    "**Performing dimension reduction:** we will reduce the number of dimension from 768 to 2. "
   ]
  },
  {
   "cell_type": "code",
   "execution_count": 271,
   "metadata": {},
   "outputs": [],
   "source": [
    "dim_reducer = dimensionReducer(analyzer.embeddingRaw, 2, 0.002)\n",
    "dim_reducer.fit()"
   ]
  },
  {
   "cell_type": "markdown",
   "metadata": {},
   "source": [
    "**Calculating the MSE of the reconstructed vectors**"
   ]
  },
  {
   "cell_type": "code",
   "execution_count": 277,
   "metadata": {},
   "outputs": [
    {
     "data": {
      "text/html": [
       "<div>\n",
       "<style scoped>\n",
       "    .dataframe tbody tr th:only-of-type {\n",
       "        vertical-align: middle;\n",
       "    }\n",
       "\n",
       "    .dataframe tbody tr th {\n",
       "        vertical-align: top;\n",
       "    }\n",
       "\n",
       "    .dataframe thead th {\n",
       "        text-align: right;\n",
       "    }\n",
       "</style>\n",
       "<table border=\"1\" class=\"dataframe\">\n",
       "  <thead>\n",
       "    <tr style=\"text-align: right;\">\n",
       "      <th></th>\n",
       "      <th>PCA</th>\n",
       "      <th>1AE</th>\n",
       "      <th>2AE</th>\n",
       "    </tr>\n",
       "  </thead>\n",
       "  <tbody>\n",
       "    <tr>\n",
       "      <th>MSE</th>\n",
       "      <td>0.740122</td>\n",
       "      <td>0.741237</td>\n",
       "      <td>0.641363</td>\n",
       "    </tr>\n",
       "  </tbody>\n",
       "</table>\n",
       "</div>"
      ],
      "text/plain": [
       "          PCA       1AE       2AE\n",
       "MSE  0.740122  0.741237  0.641363"
      ]
     },
     "execution_count": 277,
     "metadata": {},
     "output_type": "execute_result"
    }
   ],
   "source": [
    "dim_reducer.rmse_result"
   ]
  },
  {
   "cell_type": "markdown",
   "metadata": {},
   "source": [
    "Here we can see that the two-layers autoencoder has the best performance with the lowest MSE of 0.64."
   ]
  },
  {
   "cell_type": "markdown",
   "metadata": {},
   "source": [
    "**Observing the loss thorughout the epoch:** If we see that the MSE doesn't converge fast enough, we could adjust the learning rate parameter. The default is 0.002. Try increase it to 0.005 if it doesn't converge or decrease to 0.001 if it converges way too fast and oscillating."
   ]
  },
  {
   "cell_type": "code",
   "execution_count": 308,
   "metadata": {},
   "outputs": [
    {
     "data": {
      "image/png": "[encoded data removed]",
      "text/plain": [
       "<Figure size 576x288 with 1 Axes>"
      ]
     },
     "metadata": {
      "needs_background": "light"
     },
     "output_type": "display_data"
    },
    {
     "data": {
      "image/png": "[encoded data removed]",
      "text/plain": [
       "<Figure size 576x288 with 1 Axes>"
      ]
     },
     "metadata": {
      "needs_background": "light"
     },
     "output_type": "display_data"
    }
   ],
   "source": [
    "dim_reducer.plot_autoencoder_performance()"
   ]
  },
  {
   "cell_type": "markdown",
   "metadata": {},
   "source": [
    "**Reduced Dimension Output:** There are three outputs from three different methods, which are PCA, 1-layer AE, and 2-layers AE."
   ]
  },
  {
   "cell_type": "code",
   "execution_count": 273,
   "metadata": {},
   "outputs": [
    {
     "data": {
      "text/html": [
       "<div>\n",
       "<style scoped>\n",
       "    .dataframe tbody tr th:only-of-type {\n",
       "        vertical-align: middle;\n",
       "    }\n",
       "\n",
       "    .dataframe tbody tr th {\n",
       "        vertical-align: top;\n",
       "    }\n",
       "\n",
       "    .dataframe thead th {\n",
       "        text-align: right;\n",
       "    }\n",
       "</style>\n",
       "<table border=\"1\" class=\"dataframe\">\n",
       "  <thead>\n",
       "    <tr style=\"text-align: right;\">\n",
       "      <th></th>\n",
       "      <th>0</th>\n",
       "      <th>1</th>\n",
       "    </tr>\n",
       "  </thead>\n",
       "  <tbody>\n",
       "    <tr>\n",
       "      <th>0</th>\n",
       "      <td>-16.078735</td>\n",
       "      <td>-6.701482</td>\n",
       "    </tr>\n",
       "    <tr>\n",
       "      <th>1</th>\n",
       "      <td>-8.858161</td>\n",
       "      <td>9.354184</td>\n",
       "    </tr>\n",
       "    <tr>\n",
       "      <th>2</th>\n",
       "      <td>4.305742</td>\n",
       "      <td>-0.464687</td>\n",
       "    </tr>\n",
       "    <tr>\n",
       "      <th>3</th>\n",
       "      <td>-11.514315</td>\n",
       "      <td>-0.687469</td>\n",
       "    </tr>\n",
       "    <tr>\n",
       "      <th>4</th>\n",
       "      <td>1.212007</td>\n",
       "      <td>6.537956</td>\n",
       "    </tr>\n",
       "  </tbody>\n",
       "</table>\n",
       "</div>"
      ],
      "text/plain": [
       "           0         1\n",
       "0 -16.078735 -6.701482\n",
       "1  -8.858161  9.354184\n",
       "2   4.305742 -0.464687\n",
       "3 -11.514315 -0.687469\n",
       "4   1.212007  6.537956"
      ]
     },
     "execution_count": 273,
     "metadata": {},
     "output_type": "execute_result"
    }
   ],
   "source": [
    "dim_reducer.dfLowDimPCA.head()"
   ]
  },
  {
   "cell_type": "code",
   "execution_count": 274,
   "metadata": {},
   "outputs": [
    {
     "data": {
      "text/html": [
       "<div>\n",
       "<style scoped>\n",
       "    .dataframe tbody tr th:only-of-type {\n",
       "        vertical-align: middle;\n",
       "    }\n",
       "\n",
       "    .dataframe tbody tr th {\n",
       "        vertical-align: top;\n",
       "    }\n",
       "\n",
       "    .dataframe thead th {\n",
       "        text-align: right;\n",
       "    }\n",
       "</style>\n",
       "<table border=\"1\" class=\"dataframe\">\n",
       "  <thead>\n",
       "    <tr style=\"text-align: right;\">\n",
       "      <th></th>\n",
       "      <th>0</th>\n",
       "      <th>1</th>\n",
       "    </tr>\n",
       "  </thead>\n",
       "  <tbody>\n",
       "    <tr>\n",
       "      <th>0</th>\n",
       "      <td>2.658184</td>\n",
       "      <td>6.454404</td>\n",
       "    </tr>\n",
       "    <tr>\n",
       "      <th>1</th>\n",
       "      <td>-3.722385</td>\n",
       "      <td>3.450950</td>\n",
       "    </tr>\n",
       "    <tr>\n",
       "      <th>2</th>\n",
       "      <td>-0.186975</td>\n",
       "      <td>-1.620856</td>\n",
       "    </tr>\n",
       "    <tr>\n",
       "      <th>3</th>\n",
       "      <td>0.364970</td>\n",
       "      <td>4.719998</td>\n",
       "    </tr>\n",
       "    <tr>\n",
       "      <th>4</th>\n",
       "      <td>-2.843418</td>\n",
       "      <td>-0.903326</td>\n",
       "    </tr>\n",
       "  </tbody>\n",
       "</table>\n",
       "</div>"
      ],
      "text/plain": [
       "          0         1\n",
       "0  2.658184  6.454404\n",
       "1 -3.722385  3.450950\n",
       "2 -0.186975 -1.620856\n",
       "3  0.364970  4.719998\n",
       "4 -2.843418 -0.903326"
      ]
     },
     "execution_count": 274,
     "metadata": {},
     "output_type": "execute_result"
    }
   ],
   "source": [
    "dim_reducer.dfLowDim1AE.head()"
   ]
  },
  {
   "cell_type": "code",
   "execution_count": 275,
   "metadata": {},
   "outputs": [
    {
     "data": {
      "text/html": [
       "<div>\n",
       "<style scoped>\n",
       "    .dataframe tbody tr th:only-of-type {\n",
       "        vertical-align: middle;\n",
       "    }\n",
       "\n",
       "    .dataframe tbody tr th {\n",
       "        vertical-align: top;\n",
       "    }\n",
       "\n",
       "    .dataframe thead th {\n",
       "        text-align: right;\n",
       "    }\n",
       "</style>\n",
       "<table border=\"1\" class=\"dataframe\">\n",
       "  <thead>\n",
       "    <tr style=\"text-align: right;\">\n",
       "      <th></th>\n",
       "      <th>0</th>\n",
       "      <th>1</th>\n",
       "    </tr>\n",
       "  </thead>\n",
       "  <tbody>\n",
       "    <tr>\n",
       "      <th>0</th>\n",
       "      <td>1.188639</td>\n",
       "      <td>12.213808</td>\n",
       "    </tr>\n",
       "    <tr>\n",
       "      <th>1</th>\n",
       "      <td>24.526394</td>\n",
       "      <td>29.610954</td>\n",
       "    </tr>\n",
       "    <tr>\n",
       "      <th>2</th>\n",
       "      <td>11.857518</td>\n",
       "      <td>6.406322</td>\n",
       "    </tr>\n",
       "    <tr>\n",
       "      <th>3</th>\n",
       "      <td>0.000000</td>\n",
       "      <td>9.951591</td>\n",
       "    </tr>\n",
       "    <tr>\n",
       "      <th>4</th>\n",
       "      <td>16.653738</td>\n",
       "      <td>30.677238</td>\n",
       "    </tr>\n",
       "  </tbody>\n",
       "</table>\n",
       "</div>"
      ],
      "text/plain": [
       "           0          1\n",
       "0   1.188639  12.213808\n",
       "1  24.526394  29.610954\n",
       "2  11.857518   6.406322\n",
       "3   0.000000   9.951591\n",
       "4  16.653738  30.677238"
      ]
     },
     "execution_count": 275,
     "metadata": {},
     "output_type": "execute_result"
    }
   ],
   "source": [
    "dim_reducer.dfLowDim2AE.head()"
   ]
  },
  {
   "cell_type": "markdown",
   "metadata": {},
   "source": [
    "**Plotting the embedding (for 2-dimensional embedding)**"
   ]
  },
  {
   "cell_type": "code",
   "execution_count": 291,
   "metadata": {},
   "outputs": [
    {
     "data": {
      "image/png": "[encoded data removed]",
      "text/plain": [
       "<Figure size 576x576 with 1 Axes>"
      ]
     },
     "metadata": {
      "needs_background": "light"
     },
     "output_type": "display_data"
    }
   ],
   "source": [
    "plot_output(dim_reducer.dfLowDim2AE)"
   ]
  },
  {
   "cell_type": "markdown",
   "metadata": {},
   "source": [
    "***"
   ]
  },
  {
   "cell_type": "markdown",
   "metadata": {},
   "source": [
    "## Updating the library without nbdev_build_lib"
   ]
  },
  {
   "cell_type": "code",
   "execution_count": 333,
   "metadata": {},
   "outputs": [
    {
     "name": "stdout",
     "output_type": "stream",
     "text": [
      "Converted 00_dimensionReducer.ipynb.\n",
      "Converted index.ipynb.\n"
     ]
    }
   ],
   "source": [
    "from nbdev.export import notebook2script; notebook2script()"
   ]
  }
 ],
 "metadata": {
  "kernelspec": {
   "display_name": "Python 3",
   "language": "python",
   "name": "python3"
  },
  "language_info": {
   "codemirror_mode": {
    "name": "ipython",
    "version": 3
   },
   "file_extension": ".py",
   "mimetype": "text/x-python",
   "name": "python",
   "nbconvert_exporter": "python",
   "pygments_lexer": "ipython3",
   "version": "3.8.5"
  }
 },
 "nbformat": 4,
 "nbformat_minor": 2
}
